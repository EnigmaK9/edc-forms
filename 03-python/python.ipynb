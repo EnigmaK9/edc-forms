{
  "nbformat": 4,
  "nbformat_minor": 0,
  "metadata": {
    "colab": {
      "provenance": []
    },
    "kernelspec": {
      "name": "python3",
      "display_name": "Python 3"
    },
    "language_info": {
      "name": "python"
    }
  },
  "cells": [
    {
      "cell_type": "code",
      "execution_count": 3,
      "metadata": {
        "colab": {
          "base_uri": "https://localhost:8080/"
        },
        "id": "FpUO9Ui8BX9W",
        "outputId": "7293e0d3-1c99-46c3-e58c-cff8a54f4e64"
      },
      "outputs": [
        {
          "output_type": "stream",
          "name": "stdout",
          "text": [
            "Introduce tu edad: 29\n",
            "Introduce tu estado civil (soltero/casado): soltero\n",
            "Eres luchona? (si/no): no\n",
            "Estas chambeando? (si/no): no\n",
            "Introduce el costo de tu colegiatura: 1000\n",
            "No eres elegible para la beca, lo siento.\n"
          ]
        }
      ],
      "source": [
        "class ScholarshipEligibility:\n",
        "    def __init__(self, age, marital_status, is_single_mother, is_employed, tuition_fee):\n",
        "        self.age = age\n",
        "        self.marital_status = marital_status\n",
        "        self.is_single_mother = is_single_mother\n",
        "        self.is_employed = is_employed\n",
        "        self.tuition_fee = tuition_fee\n",
        "        self.base_scholarship_percentage = 20\n",
        "        self.single_mother_additional_percentage = 15\n",
        "\n",
        "    def is_eligible(self):\n",
        "        if self.age >= 18 and self.age <= 38 and self.marital_status == 'soltero' and self.is_employed:\n",
        "            return True\n",
        "        return False\n",
        "\n",
        "    def calculate_scholarship_amount(self):\n",
        "        if self.is_eligible():\n",
        "            scholarship_percentage = self.base_scholarship_percentage\n",
        "            if self.is_single_mother:\n",
        "                scholarship_percentage += self.single_mother_additional_percentage\n",
        "            scholarship_amount = self.tuition_fee * (scholarship_percentage / 100)\n",
        "            return scholarship_amount\n",
        "        else:\n",
        "            return 0.0\n",
        "\n",
        "# Example usage\n",
        "age = int(input(\"Introduce tu edad: \"))\n",
        "marital_status = input(\"Introduce tu estado civil (soltero/casado): \").lower()\n",
        "is_single_mother = input(\"Eres luchona? (si/no): \").lower() == 'si'\n",
        "is_employed = input(\"Estas chambeando? (si/no): \").lower() == 'si'\n",
        "tuition_fee = float(input(\"Introduce el costo de tu colegiatura: \"))\n",
        "\n",
        "scholarship = ScholarshipEligibility(age, marital_status, is_single_mother, is_employed, tuition_fee)\n",
        "if scholarship.is_eligible():\n",
        "    amount = scholarship.calculate_scholarship_amount()\n",
        "    print(f\"Eres elegible para la beca. El monto de la beca es: ${amount:.2f}\")\n",
        "else:\n",
        "    print(\"No eres elegible para la beca, lo siento.\")\n"
      ]
    }
  ]
}